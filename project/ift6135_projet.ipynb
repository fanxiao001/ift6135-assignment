{
 "cells": [
  {
   "cell_type": "markdown",
   "metadata": {},
   "source": [
    "## IFT6135 Projet: ICLR2018 Reproducibility Challenge\n",
    "####  Paper: Certifying Some Distributional Robustness With Principled Adversarial Training\n",
    "\n",
    "Names: Xiao Fan (20086722) ,  Zhibin Lu (20091078)"
   ]
  },
  {
   "cell_type": "code",
   "execution_count": 2,
   "metadata": {},
   "outputs": [
    {
     "name": "stdout",
     "output_type": "stream",
     "text": [
      "/Users/louis/Google Drive/M.Sc-DIRO-UdeM/IFT6135-Apprentissage de représentations/projet\n",
      "/Users/louis/Google Drive/M.Sc-DIRO-UdeM/IFT6135-Apprentissage de représentations/projet\n",
      "Loaded MNIST data, total 70000\n",
      "/Users/louis/Google Drive/M.Sc-DIRO-UdeM/IFT6135-Apprentissage de représentations/projet\n",
      "Loaded MNIST data, total 70000\n"
     ]
    }
   ],
   "source": [
    "import os\n",
    "import importlib\n",
    "import time\n",
    "import numpy as np\n",
    "import torch\n",
    "import torch.nn as nn\n",
    "import torch.optim as optim\n",
    "import torch.nn.init as init\n",
    "import torch.nn.functional as F\n",
    "from torch.autograd import Variable\n",
    "import torchvision\n",
    "import torchvision.transforms\n",
    "import torch.utils.data.sampler as sampler\n",
    "import matplotlib.pyplot as plt\n",
    "\n",
    "# path = 'C:/Users/lingyu.yue/Documents/Xiao_Fan/GAN'\n",
    "path=\"/Users/louis/Google Drive/M.Sc-DIRO-UdeM/IFT6135-Apprentissage de représentations/projet/\"\n",
    "if os.path.isdir(path):\n",
    "    os.chdir(path)\n",
    "else:\n",
    "    os.chdir(\"./\")\n",
    "print(os.getcwd())\n",
    "\n",
    "import exp1\n",
    "import mnist\n",
    "importlib.reload(exp1)\n",
    "importlib.reload(mnist)\n",
    "USE_CUDA=torch.cuda.is_available()\n",
    "exp1.init_seed()"
   ]
  },
  {
   "cell_type": "code",
   "execution_count": null,
   "metadata": {
    "collapsed": true
   },
   "outputs": [],
   "source": [
    "\n"
   ]
  },
  {
   "cell_type": "markdown",
   "metadata": {},
   "source": [
    "### Load MNIST data"
   ]
  },
  {
   "cell_type": "code",
   "execution_count": 3,
   "metadata": {},
   "outputs": [
    {
     "name": "stdout",
     "output_type": "stream",
     "text": [
      "Loaded MNIST data, total 70000\n"
     ]
    }
   ],
   "source": [
    "NO_CLASSES = 10\n",
    "TRAIN_DATA_SIZE = 50000\n",
    "BATCH_SIZE = 128\n",
    "\n",
    "mnist_transforms = torchvision.transforms.Compose([torchvision.transforms.ToTensor()])\n",
    "mnist_train = torchvision.datasets.MNIST(root='./data', train=True, transform=mnist_transforms, download=True)\n",
    "mnist_test = torchvision.datasets.MNIST(root='./data', train=False, transform=mnist_transforms, download=True)\n",
    "indices = list(range(len(mnist_train)))\n",
    "np.random.shuffle(indices)\n",
    "train_idx, valid_idx = indices[:TRAIN_DATA_SIZE], indices[TRAIN_DATA_SIZE:]\n",
    "train_sampler = sampler.SubsetRandomSampler(train_idx)\n",
    "valid_sampler = sampler.SubsetRandomSampler(valid_idx)\n",
    "train_data_loader = torch.utils.data.DataLoader(\n",
    "    mnist_train, batch_size=BATCH_SIZE, sampler=train_sampler, num_workers=10)\n",
    "valid_data_loader = torch.utils.data.DataLoader(\n",
    "    mnist_train, batch_size=BATCH_SIZE,  sampler=valid_sampler, num_workers=10)\n",
    "test_data_loader = torch.utils.data.DataLoader(mnist_test, batch_size=BATCH_SIZE, shuffle=True, num_workers=10)\n",
    "print('Loaded MNIST data, total',len(mnist_train)+len(mnist_test))"
   ]
  },
  {
   "cell_type": "markdown",
   "metadata": {},
   "source": [
    "## Sample"
   ]
  },
  {
   "cell_type": "code",
   "execution_count": 48,
   "metadata": {},
   "outputs": [
    {
     "name": "stdout",
     "output_type": "stream",
     "text": [
      "/Users/louis/Google Drive/M.Sc-DIRO-UdeM/IFT6135-Apprentissage de représentations/projet\n",
      "Loaded MNIST data, total 70000\n",
      "==> Resuming from checkpoint..\n",
      "<class 'torch.FloatTensor'>\n",
      "torch.Size([1, 28, 28])\n",
      "\n",
      "\n",
      "Columns 0 to 9 \n",
      " 0.0000  0.0000  0.0000  0.0000  0.0000  0.0000  0.0000  0.0000  0.0000  0.0000\n",
      " 0.0000  0.0000  0.0000  0.0000  0.0000  0.0000  0.0000  0.0000  0.0000  0.0000\n",
      " 0.0000  0.0000  0.0000  0.0000  0.0000  0.0000  0.0000  0.0000  0.0000  0.0000\n",
      " 0.0000  0.0000  0.0000  0.0000  0.0000  0.0000  0.0000  0.0000  0.0000  0.0000\n",
      " 0.0000  0.0000  0.0000  0.0000  0.0000  0.0000  0.0000  0.0000  0.0000  0.0000\n",
      " 0.0000  0.0000  0.0000  0.0000  0.0000  0.0000  0.0000  0.0000  0.0000  0.0000\n",
      " 0.0000  0.0000  0.0000  0.0000  0.0000  0.0000  0.0000  0.0000  0.0000  0.0000\n",
      " 0.0000  0.0000  0.0000  0.0000  0.0000  0.0000  0.0000  0.0000  0.0000  0.0000\n",
      " 0.0000  0.0000  0.0000  0.0000  0.0000  0.0000  0.0000  0.0000  0.0000  0.0000\n",
      " 0.0000  0.0000  0.0000  0.0000  0.0000  0.0000  0.0000  0.0000  0.0000  0.0000\n",
      " 0.0000  0.0000  0.0000  0.0000  0.0000  0.0000  0.0000  0.0000  0.0000  0.0000\n",
      " 0.0000  0.0000  0.0000  0.0000  0.0000  0.0000  0.0000  0.0000  0.0000  0.0000\n",
      " 0.0000  0.0000  0.0000  0.0000  0.0000  0.0000  0.0000  0.0000  0.0000  0.0000\n",
      " 0.0000  0.0000  0.0000  0.0000  0.0000  0.0000  0.0000  0.0000  0.0000  0.0000\n",
      " 0.0000  0.0000  0.0000  0.0000  0.0000  0.0000  0.0000  0.0000  0.0000  0.0000\n",
      " 0.0000  0.0000  0.0000  0.0000  0.0000  0.0000  0.0000  0.0000  0.0000  0.0000\n",
      " 0.0000  0.0000  0.0000  0.0000  0.0000  0.0000  0.0000  0.0000  0.0000  0.0000\n",
      " 0.0000  0.0000  0.0000  0.0000  0.0000  0.0000  0.0000  0.0000  0.0000  0.0000\n",
      " 0.0000  0.0000  0.0000  0.0000  0.0000  0.0000  0.0000  0.0000  0.0000  0.0000\n",
      " 0.0000  0.0000  0.0000  0.0000  0.0000  0.0000  0.0000  0.0000  0.0000  0.0000\n",
      " 0.0000  0.0000  0.0000  0.0000  0.0000  0.0000  0.0000  0.0000  0.0000  0.0000\n",
      " 0.0000  0.0000  0.0000  0.0000  0.0000  0.0000  0.0000  0.0000  0.0000  0.0000\n",
      " 0.0000  0.0000  0.0000  0.0000  0.0000  0.0000  0.0000  0.0000  0.0000  0.0000\n",
      " 0.0000  0.0000  0.0000  0.0000  0.0000  0.0000  0.0000  0.0000  0.0000  0.0000\n",
      " 0.0000  0.0000  0.0000  0.0000  0.0000  0.0000  0.0000  0.0000  0.0000  0.0000\n",
      " 0.0000  0.0000  0.0000  0.0000  0.0000  0.0000  0.0000  0.0000  0.0000  0.0000\n",
      " 0.0000  0.0000  0.0000  0.0000  0.0000  0.0000  0.0000  0.0000  0.0000  0.0000\n",
      " 0.0000  0.0000  0.0000  0.0000  0.0000  0.0000  0.0000  0.0000  0.0000  0.0000\n",
      "\n",
      "Columns 10 to 19 \n",
      " 0.0000  0.0000  0.0000  0.0000  0.0000  0.0000  0.0000  0.0000  0.0000  0.0000\n",
      " 0.0000  0.0000  0.0000  0.0000  0.0000  0.0000  0.0000  0.0000  0.0000  0.0000\n",
      " 0.0000  0.0000  0.0000  0.0000  0.0000  0.0000  0.0000  0.0000  0.0000  0.0000\n",
      " 0.0000  0.0000  0.0000  0.0000  0.0000  0.0000  0.0000  0.0000  0.0000  0.0000\n",
      " 0.0000  0.0000  0.0000  0.0000  0.0000  0.0000  0.0000  0.0000  0.0000  0.0000\n",
      " 0.0000  0.0000  0.0000  0.0000  0.0000  0.0000  0.3020  0.9961  0.4196  0.0118\n",
      " 0.0000  0.0000  0.0000  0.0000  0.0000  0.0745  0.8902  0.9961  0.9961  0.0353\n",
      " 0.0000  0.0000  0.0000  0.0000  0.0000  0.3176  0.9961  0.9961  0.6471  0.0039\n",
      " 0.0000  0.0000  0.0000  0.0000  0.0275  0.7961  0.9961  0.9961  0.2863  0.0000\n",
      " 0.0000  0.0000  0.0000  0.0000  0.2078  0.9961  0.9961  0.9804  0.0000  0.0000\n",
      " 0.0000  0.0000  0.0000  0.0000  0.5255  0.9961  0.9961  0.7059  0.0000  0.0000\n",
      " 0.0000  0.0000  0.0000  0.0000  0.7686  0.9961  0.9725  0.1882  0.0000  0.0000\n",
      " 0.0000  0.0000  0.0000  0.2275  0.9961  0.9961  0.9294  0.0000  0.0000  0.0000\n",
      " 0.0000  0.0000  0.0000  0.4353  0.9961  0.9961  0.5176  0.0000  0.0000  0.0000\n",
      " 0.0000  0.0000  0.0000  0.6392  0.9961  0.9333  0.1098  0.0000  0.0000  0.0000\n",
      " 0.0000  0.0000  0.2353  0.9882  0.9961  0.8745  0.0000  0.0000  0.0000  0.0000\n",
      " 0.0000  0.0000  0.3098  0.9961  0.9961  0.6039  0.0000  0.0000  0.0000  0.0000\n",
      " 0.0000  0.0000  0.6392  0.9961  0.9333  0.2078  0.0000  0.0000  0.0000  0.0000\n",
      " 0.0000  0.1098  0.9882  0.9961  0.8235  0.0000  0.0000  0.0000  0.0000  0.0000\n",
      " 0.0000  0.3373  0.9961  0.9961  0.5137  0.0000  0.0000  0.0000  0.0000  0.0000\n",
      " 0.0000  0.4118  0.9961  0.9176  0.0784  0.0000  0.0000  0.0000  0.0000  0.0000\n",
      " 0.0000  0.6863  0.9961  0.8000  0.0196  0.0000  0.0000  0.0000  0.0000  0.0000\n",
      " 0.0196  0.8275  0.9961  0.7686  0.0000  0.0000  0.0000  0.0000  0.0000  0.0000\n",
      " 0.0118  0.6196  0.9961  0.6275  0.0000  0.0000  0.0000  0.0000  0.0000  0.0000\n",
      " 0.0000  0.1020  0.6157  0.4196  0.0000  0.0000  0.0000  0.0000  0.0000  0.0000\n",
      " 0.0000  0.0000  0.0000  0.0000  0.0000  0.0000  0.0000  0.0000  0.0000  0.0000\n",
      " 0.0000  0.0000  0.0000  0.0000  0.0000  0.0000  0.0000  0.0000  0.0000  0.0000\n",
      " 0.0000  0.0000  0.0000  0.0000  0.0000  0.0000  0.0000  0.0000  0.0000  0.0000\n",
      "\n",
      "Columns 20 to 27 \n",
      " 0.0000  0.0000  0.0000  0.0000  0.0000  0.0000  0.0000  0.0000\n",
      " 0.0000  0.0000  0.0000  0.0000  0.0000  0.0000  0.0000  0.0000\n",
      " 0.0000  0.0000  0.0000  0.0000  0.0000  0.0000  0.0000  0.0000\n",
      " 0.0000  0.0000  0.0000  0.0000  0.0000  0.0000  0.0000  0.0000\n",
      " 0.0000  0.0000  0.0000  0.0000  0.0000  0.0000  0.0000  0.0000\n",
      " 0.0000  0.0000  0.0000  0.0000  0.0000  0.0000  0.0000  0.0000\n",
      " 0.0000  0.0000  0.0000  0.0000  0.0000  0.0000  0.0000  0.0000\n",
      " 0.0000  0.0000  0.0000  0.0000  0.0000  0.0000  0.0000  0.0000\n",
      " 0.0000  0.0000  0.0000  0.0000  0.0000  0.0000  0.0000  0.0000\n",
      " 0.0000  0.0000  0.0000  0.0000  0.0000  0.0000  0.0000  0.0000\n",
      " 0.0000  0.0000  0.0000  0.0000  0.0000  0.0000  0.0000  0.0000\n",
      " 0.0000  0.0000  0.0000  0.0000  0.0000  0.0000  0.0000  0.0000\n",
      " 0.0000  0.0000  0.0000  0.0000  0.0000  0.0000  0.0000  0.0000\n",
      " 0.0000  0.0000  0.0000  0.0000  0.0000  0.0000  0.0000  0.0000\n",
      " 0.0000  0.0000  0.0000  0.0000  0.0000  0.0000  0.0000  0.0000\n",
      " 0.0000  0.0000  0.0000  0.0000  0.0000  0.0000  0.0000  0.0000\n",
      " 0.0000  0.0000  0.0000  0.0000  0.0000  0.0000  0.0000  0.0000\n",
      " 0.0000  0.0000  0.0000  0.0000  0.0000  0.0000  0.0000  0.0000\n",
      " 0.0000  0.0000  0.0000  0.0000  0.0000  0.0000  0.0000  0.0000\n",
      " 0.0000  0.0000  0.0000  0.0000  0.0000  0.0000  0.0000  0.0000\n",
      " 0.0000  0.0000  0.0000  0.0000  0.0000  0.0000  0.0000  0.0000\n",
      " 0.0000  0.0000  0.0000  0.0000  0.0000  0.0000  0.0000  0.0000\n",
      " 0.0000  0.0000  0.0000  0.0000  0.0000  0.0000  0.0000  0.0000\n",
      " 0.0000  0.0000  0.0000  0.0000  0.0000  0.0000  0.0000  0.0000\n",
      " 0.0000  0.0000  0.0000  0.0000  0.0000  0.0000  0.0000  0.0000\n",
      " 0.0000  0.0000  0.0000  0.0000  0.0000  0.0000  0.0000  0.0000\n",
      " 0.0000  0.0000  0.0000  0.0000  0.0000  0.0000  0.0000  0.0000\n",
      " 0.0000  0.0000  0.0000  0.0000  0.0000  0.0000  0.0000  0.0000\n",
      "[torch.FloatTensor of size 28x28]\n",
      "\n"
     ]
    },
    {
     "data": {
      "image/png": "[encoded data removed]",
      "text/plain": [
       "<matplotlib.figure.Figure at 0x1263016a0>"
      ]
     },
     "metadata": {},
     "output_type": "display_data"
    }
   ],
   "source": [
    "importlib.reload(exp1)\n",
    "importlib.reload(mnist)\n",
    "\n",
    "filename='mnist_wrm_elu_ep42'\n",
    "mnist_WRM=mnist.Mnist_Estimateur(activation='elu')\n",
    "mnist_WRM,_=exp1.loadCheckpoint(mnist_WRM,filename)\n",
    "# print('Accuracy on test data: ',exp1.evaluate(mnist_WRM,test_data_loader))\n",
    "\n",
    "# indices = list(range(len(5)))\n",
    "# np.random.shuffle(indices)\n",
    "# samples_data=\n",
    "# fig = plt.figure(figsize=(10, 10))\n",
    "# fig.add_subplot(4, 4, 1 + 1)\n",
    "print(type(mnist_test[1][0]))\n",
    "print(mnist_test[5][0].size())\n",
    "plt.imshow(mnist_test[5][0][0], cmap='gray')\n",
    "print(mnist_test[5][0][0])\n",
    "# plt.axis('off')"
   ]
  },
  {
   "cell_type": "code",
   "execution_count": null,
   "metadata": {
    "collapsed": true
   },
   "outputs": [],
   "source": []
  }
 ],
 "metadata": {
  "kernelspec": {
   "display_name": "Python 3",
   "language": "python",
   "name": "python3"
  },
  "language_info": {
   "codemirror_mode": {
    "name": "ipython",
    "version": 3
   },
   "file_extension": ".py",
   "mimetype": "text/x-python",
   "name": "python",
   "nbconvert_exporter": "python",
   "pygments_lexer": "ipython3",
   "version": "3.6.4"
  }
 },
 "nbformat": 4,
 "nbformat_minor": 2
}
