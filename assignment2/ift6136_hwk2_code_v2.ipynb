{
 "cells": [
  {
   "cell_type": "markdown",
   "metadata": {
    "colab_type": "text",
    "id": "sr92yo8Zfemi"
   },
   "source": [
    "# IFT6135 Assignment2, Programming part\n",
    "Names: Xiao Fan (20086722) , Zhibin Lu (20091078)"
   ]
  },
  {
   "cell_type": "code",
   "execution_count": 1,
   "metadata": {
    "colab": {
     "autoexec": {
      "startup": false,
      "wait_interval": 0
     },
     "base_uri": "https://localhost:8080/",
     "height": 34,
     "output_extras": [
      {
       "item_id": 1
      }
     ]
    },
    "colab_type": "code",
    "executionInfo": {
     "elapsed": 374,
     "status": "ok",
     "timestamp": 1520017588983,
     "user": {
      "displayName": "Xiao Fan",
      "photoUrl": "//lh4.googleusercontent.com/-Q9yRK7__mOo/AAAAAAAAAAI/AAAAAAAAAt4/Bk5MyOCANTw/s50-c-k-no/photo.jpg",
      "userId": "116331488579508090996"
     },
     "user_tz": 300
    },
    "id": "YWlNzXANfl7x",
    "outputId": "965e6225-6a2f-47c9-cbe1-f48099606349"
   },
   "outputs": [
    {
     "name": "stdout",
     "output_type": "stream",
     "text": [
      "Populating the interactive namespace from numpy and matplotlib\n"
     ]
    }
   ],
   "source": [
    "%pylab inline\n",
    "import time\n",
    "import os\n",
    "import sys\n",
    "import collections\n",
    "\n",
    "import torch\n",
    "import torch.nn as nn\n",
    "import torch.optim as optim\n",
    "from torch.autograd import Variable\n",
    "\n",
    "import torchvision\n",
    "import torchvision.transforms\n",
    "\n",
    "from_numpy = torch.from_numpy\n",
    "\n",
    "import numpy as np\n",
    "import random\n",
    "import matplotlib\n",
    "import matplotlib.pyplot as plt\n",
    "import pickle\n",
    "import gzip"
   ]
  },
  {
   "cell_type": "markdown",
   "metadata": {
    "colab_type": "text",
    "id": "_500XZnugoiA"
   },
   "source": [
    "# 1. Regularization : weight decay, early stopping, dropout, domain prior knowledge"
   ]
  },
  {
   "cell_type": "markdown",
   "metadata": {
    "colab_type": "text",
    "id": "zyG064cGzwGQ"
   },
   "source": [
    "**Load MNIST dataset**"
   ]
  },
  {
   "cell_type": "code",
   "execution_count": 2,
   "metadata": {
    "colab": {
     "autoexec": {
      "startup": false,
      "wait_interval": 0
     },
     "base_uri": "https://localhost:8080/",
     "height": 67,
     "output_extras": [
      {
       "item_id": 1
      }
     ]
    },
    "colab_type": "code",
    "executionInfo": {
     "elapsed": 1547,
     "status": "ok",
     "timestamp": 1520017594031,
     "user": {
      "displayName": "Xiao Fan",
      "photoUrl": "//lh4.googleusercontent.com/-Q9yRK7__mOo/AAAAAAAAAAI/AAAAAAAAAt4/Bk5MyOCANTw/s50-c-k-no/photo.jpg",
      "userId": "116331488579508090996"
     },
     "user_tz": 300
    },
    "id": "6W2GSt6Lzzyf",
    "outputId": "86d311f7-e89f-464e-b8c1-99914db1ad58"
   },
   "outputs": [
    {
     "name": "stdout",
     "output_type": "stream",
     "text": [
      "Load MNIST data:\n",
      "mnist_train: 60000\n",
      "mnist_test: 10000\n"
     ]
    }
   ],
   "source": [
    "print('Load MNIST data:')\n",
    "# Pour l'ensemble de donnees de mnist\n",
    "mnist_transforms = torchvision.transforms.Compose(\n",
    "        [torchvision.transforms.ToTensor()])\n",
    "mnist_train = torchvision.datasets.MNIST(\n",
    "        root='./data', train=True, \n",
    "        transform=mnist_transforms, download=True)\n",
    "mnist_test = torchvision.datasets.MNIST(\n",
    "        root='./data', train=False, \n",
    "        transform=mnist_transforms, download=True)\n",
    "\n",
    "print('mnist_train:',len(mnist_train))\n",
    "print('mnist_test:',len(mnist_test))"
   ]
  },
  {
   "cell_type": "markdown",
   "metadata": {
    "colab_type": "text",
    "id": "QcHLwIp62vOj"
   },
   "source": [
    "## (a) Early stopping and weight decay\n",
    "**Build the MLP model**"
   ]
  },
  {
   "cell_type": "code",
   "execution_count": 3,
   "metadata": {
    "collapsed": true
   },
   "outputs": [],
   "source": [
    "class MLPnet(nn.Module):\n",
    "\n",
    "    #todo: init paramater\n",
    "    def __init__(self,sizes):\n",
    "        super(MLPnet, self).__init__()\n",
    "\n",
    "        self.sizes = sizes\n",
    "        \n",
    "#         self.loss_criterion = nn.NLLLoss()\n",
    "        self.loss_criterion = nn.CrossEntropyLoss()\n",
    "        neu_seq=collections.OrderedDict()\n",
    "        for i in range(len(sizes)-1):\n",
    "            neu_seq[str(i*2)]=torch.nn.Linear(self.sizes[i], self.sizes[i+1])\n",
    "            if i<len(sizes)-2:\n",
    "                neu_seq[str(i*2+1)]=torch.nn.ReLU()\n",
    "#         neu_seq[str(i*2+1)]=torch.nn.LogSoftmax()\n",
    "        \n",
    "        self.mlp_architecture = torch.nn.Sequential(neu_seq)\n",
    "\n",
    "    def forward(self, x):\n",
    "        log_proba_out = self.mlp_architecture(x)\n",
    "        return log_proba_out\n",
    "        \n",
    "    def predict(self, proba_out):\n",
    "#         return np.argmax(proba_out.data.cpu().numpy(),1)\n",
    "        _,max_ind=proba_out.max(1)\n",
    "        return max_ind\n",
    "    \n",
    "    def loss(self, log_proba_out, target):\n",
    "        return self.loss_criterion(log_proba_out, target)\n",
    "\n",
    "    def adjust_lr(self, optimizer, epoch, total_epochs):\n",
    "        lr = lr0 * (0.1 ** (epoch / float(total_epochs)))\n",
    "        for param_group in optimizer.param_groups:\n",
    "            param_group['lr'] = lr\n",
    "\n",
    "\n",
    "    def init_weights_zero(self,m):\n",
    "        if type(m) == nn.Linear:\n",
    "            nn.init.constant(m.weight, 0.0)\n",
    "\n",
    "    def init_weights_normal(self,m):\n",
    "        if type(m) == nn.Linear:\n",
    "            nn.init.normal(m.weight)\n",
    "\n",
    "    def init_weights_glorot(self,m):\n",
    "        if type(m) == nn.Linear:\n",
    "            nn.init.xavier_uniform(m.weight)\n",
    "            \n",
    "    def calculate_parameter_norm(self) :\n",
    "        n = 0\n",
    "        for i, l in enumerate(self.mlp_architecture):\n",
    "            if type(l) == nn.Linear :\n",
    "                n += torch.norm(l.weight,p=2) **2 + torch.norm(l.bias,p=2) **2   \n",
    "        return float(torch.sqrt(n))\n",
    "\n",
    "    def evaluate(self, dataset_loader):\n",
    "        LOSSES = 0\n",
    "        COUNTER = 0\n",
    "        ACCURACY=0\n",
    "        for batch in dataset_loader:\n",
    "            # optimizer.zero_grad()\n",
    "            x, y = batch\n",
    "            x = Variable(x).view(-1,self.sizes[0])\n",
    "            y = Variable(y).view(-1)\n",
    "            if cuda:\n",
    "                x = x.cuda()\n",
    "                y = y.cuda()\n",
    "            \n",
    "            log_proba_out=self.forward(x)\n",
    "            loss = self.loss(log_proba_out, y)\n",
    "            predict_out=self.predict(log_proba_out)\n",
    "\n",
    "            n = y.size(0)\n",
    "            LOSSES += loss.sum().data.cpu().numpy() * n\n",
    "\n",
    "            COUNTER += n\n",
    "            ACCURACY+=float(torch.eq(predict_out, y).sum().data.cpu().numpy())\n",
    "        # get average loss\n",
    "        return ACCURACY / float(COUNTER) ,LOSSES / float(COUNTER)\n",
    "\n",
    "    def train_model(self, optim_func, lr, momentum, weight_decay, num_epochs, batch_size, train_data, valid_data=None, test_data=None, display=5):\n",
    "\n",
    "        LOSSES = 0\n",
    "        COUNTER = 0\n",
    "        ITERATIONS = 0\n",
    "        learning_curve_nll_train = list()\n",
    "        learning_curve_nll_valid = list()\n",
    "        learning_curve_nll_test = list()\n",
    "        learning_curve_acc_train = list()\n",
    "        learning_curve_acc_valid = list()\n",
    "        learning_curve_acc_test = list()\n",
    "        \n",
    "        parameter_l2_norm = list()\n",
    "\n",
    "        # separate data to mini batchs.\n",
    "        train_loader = torch.utils.data.DataLoader(\n",
    "                train_data, batch_size=batch_size, shuffle=True, num_workers=2)\n",
    "        if valid_data is not None:\n",
    "            valid_loader = torch.utils.data.DataLoader(\n",
    "                valid_data, batch_size=batch_size, shuffle=True, num_workers=2)        \n",
    "        if test_data is not None:\n",
    "            test_loader = torch.utils.data.DataLoader(\n",
    "                test_data, batch_size=batch_size, shuffle=True, num_workers=2)\n",
    "        \n",
    "\n",
    "        #training\n",
    "        print('Training Begining, Count of batchs:',len(train_loader))\n",
    "        \n",
    "        # d_p.add_(weight_decay, p.data), \n",
    "        weight_decay_per_sample = weight_decay / len(train_data) * batch_size\n",
    "        optimizer=optim_func(self.parameters(), lr, momentum, weight_decay = weight_decay_per_sample)\n",
    "\n",
    "        # trainloss_every = 200\n",
    "        for ep in range(num_epochs):\n",
    "            for batch in train_loader:\n",
    "                optimizer.zero_grad()\n",
    "                x, y = batch\n",
    "                x = Variable(x).view(-1,self.sizes[0])\n",
    "                y = Variable(y).view(-1)\n",
    "                if cuda:\n",
    "                    x = x.cuda()\n",
    "                    y = y.cuda()\n",
    "                    \n",
    "                log_proba_out=self.forward(x)\n",
    "                loss = self.loss(log_proba_out, y)\n",
    "                loss.backward()\n",
    "                optimizer.step()\n",
    "                parameter_l2_norm.append(self.calculate_parameter_norm())\n",
    "            \n",
    "            # record loss values and accuray values\n",
    "            train_acc,train_loss = self.evaluate(train_loader)\n",
    "            learning_curve_nll_train.append(train_loss)\n",
    "            learning_curve_acc_train.append(train_acc)\n",
    "            if valid_data is not None:\n",
    "                valid_acc,valid_loss = self.evaluate(valid_loader)\n",
    "                learning_curve_nll_valid.append(valid_loss)\n",
    "                learning_curve_acc_valid.append(valid_acc)\n",
    "            if test_data is not None:\n",
    "                test_acc,test_loss = self.evaluate(test_loader)\n",
    "                learning_curve_nll_test.append(test_loss)\n",
    "                learning_curve_acc_test.append(test_acc)\n",
    "\n",
    "            # print the process of the training.  \n",
    "            if display!=0 and (ep % display==0 or ep==(num_epochs-1)):\n",
    "                if valid_data is None:\n",
    "                    valid_loss=0\n",
    "                    valid_acc=0\n",
    "                if test_data is None:\n",
    "                    test_loss=0\n",
    "                    test_acc=0\n",
    "                print(\"Epoch:{}, [NLL] TRAIN {} / VALID {} / TEST {}\".format(ep+1,\n",
    "                    train_loss, valid_loss, test_loss))\n",
    "                print(\"Epoch:{}, [ACC] TRAIN {} / VALID {} / TEST {}\".format(ep+1,\n",
    "                    train_acc, valid_acc, test_acc))\n",
    "            \n",
    "#             self.adjust_lr(optimizer, ep+1, num_epochs)\n",
    "            \n",
    "        return learning_curve_nll_train, \\\n",
    "            learning_curve_nll_valid, \\\n",
    "            learning_curve_nll_test, \\\n",
    "            learning_curve_acc_train, \\\n",
    "            learning_curve_acc_valid,\\\n",
    "            learning_curve_acc_test,\\\n",
    "            parameter_l2_norm\n"
   ]
  },
  {
   "cell_type": "markdown",
   "metadata": {},
   "source": [
    "### No regularization"
   ]
  },
  {
   "cell_type": "code",
   "execution_count": 4,
   "metadata": {
    "colab": {
     "autoexec": {
      "startup": false,
      "wait_interval": 0
     },
     "base_uri": "https://localhost:8080/",
     "height": 403,
     "output_extras": [
      {
       "item_id": 12
      }
     ]
    },
    "colab_type": "code",
    "executionInfo": {
     "elapsed": 2145979,
     "status": "ok",
     "timestamp": 1520019740306,
     "user": {
      "displayName": "Xiao Fan",
      "photoUrl": "//lh4.googleusercontent.com/-Q9yRK7__mOo/AAAAAAAAAAI/AAAAAAAAAt4/Bk5MyOCANTw/s50-c-k-no/photo.jpg",
      "userId": "116331488579508090996"
     },
     "user_tz": 300
    },
    "id": "XpfdZJQh2t0V",
    "outputId": "2e211c45-7c82-4000-95dd-bf9688f16a2e"
   },
   "outputs": [
    {
     "name": "stdout",
     "output_type": "stream",
     "text": [
      "Training Begining, Count of batchs: 938\n",
      "Epoch:1, [NLL] TRAIN [ 0.30150458] / VALID 0 / TEST [ 0.28974783]\n",
      "Epoch:1, [ACC] TRAIN 0.9148166666666666 / VALID 0 / TEST 0.9191\n",
      "Epoch:11, [NLL] TRAIN [ 0.07658689] / VALID 0 / TEST [ 0.09407724]\n",
      "Epoch:11, [ACC] TRAIN 0.9788333333333333 / VALID 0 / TEST 0.9722\n",
      "Epoch:21, [NLL] TRAIN [ 0.03629542] / VALID 0 / TEST [ 0.07131872]\n",
      "Epoch:21, [ACC] TRAIN 0.9915666666666667 / VALID 0 / TEST 0.9778\n",
      "Epoch:31, [NLL] TRAIN [ 0.01900418] / VALID 0 / TEST [ 0.06254788]\n",
      "Epoch:31, [ACC] TRAIN 0.9968166666666667 / VALID 0 / TEST 0.9803\n",
      "Epoch:41, [NLL] TRAIN [ 0.01079048] / VALID 0 / TEST [ 0.06080459]\n",
      "Epoch:41, [ACC] TRAIN 0.9989333333333333 / VALID 0 / TEST 0.981\n",
      "Epoch:51, [NLL] TRAIN [ 0.00655173] / VALID 0 / TEST [ 0.06099875]\n",
      "Epoch:51, [ACC] TRAIN 0.9996166666666667 / VALID 0 / TEST 0.9806\n",
      "Epoch:61, [NLL] TRAIN [ 0.00425685] / VALID 0 / TEST [ 0.06180353]\n",
      "Epoch:61, [ACC] TRAIN 0.9999333333333333 / VALID 0 / TEST 0.9812\n",
      "Epoch:71, [NLL] TRAIN [ 0.00307291] / VALID 0 / TEST [ 0.06265749]\n",
      "Epoch:71, [ACC] TRAIN 0.9999666666666667 / VALID 0 / TEST 0.9819\n",
      "Epoch:81, [NLL] TRAIN [ 0.00239914] / VALID 0 / TEST [ 0.06409074]\n",
      "Epoch:81, [ACC] TRAIN 0.9999833333333333 / VALID 0 / TEST 0.9818\n",
      "Epoch:91, [NLL] TRAIN [ 0.00190911] / VALID 0 / TEST [ 0.06465527]\n",
      "Epoch:91, [ACC] TRAIN 1.0 / VALID 0 / TEST 0.9823\n",
      "Epoch:100, [NLL] TRAIN [ 0.0016126] / VALID 0 / TEST [ 0.06593023]\n",
      "Epoch:100, [ACC] TRAIN 1.0 / VALID 0 / TEST 0.982\n"
     ]
    }
   ],
   "source": [
    "sizes=[784,800,800,10]\n",
    "num_epochs = 100\n",
    "batch_size = 64\n",
    "lr0 = 0.02\n",
    "momentum=0.0\n",
    "weight_decay = 0\n",
    "cuda = True\n",
    "\n",
    "#define mlp net\n",
    "model1 = MLPnet(sizes)\n",
    "if cuda:\n",
    "    model1 = model1.cuda()\n",
    "    \n",
    "model1.apply(model1.init_weights_glorot)\n",
    "ll_train,ll_valid,ll_test,acc_train,acc_valid,acc_test,l2_norm=\\\n",
    "    model1.train_model(torch.optim.SGD, lr0, momentum, weight_decay,\n",
    "        num_epochs, batch_size, mnist_train,None,mnist_test, 10)"
   ]
  },
  {
   "cell_type": "code",
   "execution_count": 5,
   "metadata": {
    "colab": {
     "autoexec": {
      "startup": false,
      "wait_interval": 0
     },
     "base_uri": "https://localhost:8080/",
     "height": 294,
     "output_extras": [
      {
       "item_id": 1
      }
     ]
    },
    "colab_type": "code",
    "executionInfo": {
     "elapsed": 474,
     "status": "ok",
     "timestamp": 1520019740801,
     "user": {
      "displayName": "Xiao Fan",
      "photoUrl": "//lh4.googleusercontent.com/-Q9yRK7__mOo/AAAAAAAAAAI/AAAAAAAAAt4/Bk5MyOCANTw/s50-c-k-no/photo.jpg",
      "userId": "116331488579508090996"
     },
     "user_tz": 300
    },
    "id": "boa13pxEisML",
    "outputId": "5e23116f-27f8-4cfa-ccb1-8768a3620a41"
   },
   "outputs": [
    {
     "data": {
      "image/png": "[encoded data removed]",
      "text/plain": [
       "<matplotlib.figure.Figure at 0x1a6c0375a90>"
      ]
     },
     "metadata": {},
     "output_type": "display_data"
    }
   ],
   "source": [
    "plt.figure()\n",
    "plt.plot(range(1,num_epochs+1),1.0-np.array(acc_train),label='Training')\n",
    "plt.plot(range(1,num_epochs+1),1.0-np.array(acc_test),label='Test')\n",
    "plt.xlabel('Epochs')\n",
    "plt.ylabel('Error')\n",
    "plt.title('no regularization')\n",
    "plt.legend()\n",
    "plt.savefig('problem1a-error-no-reg.pdf')\n",
    "plt.show()"
   ]
  },
  {
   "cell_type": "code",
   "execution_count": 6,
   "metadata": {
    "colab": {
     "autoexec": {
      "startup": false,
      "wait_interval": 0
     },
     "base_uri": "https://localhost:8080/",
     "height": 294,
     "output_extras": [
      {
       "item_id": 1
      }
     ]
    },
    "colab_type": "code",
    "executionInfo": {
     "elapsed": 615,
     "status": "ok",
     "timestamp": 1520019741596,
     "user": {
      "displayName": "Xiao Fan",
      "photoUrl": "//lh4.googleusercontent.com/-Q9yRK7__mOo/AAAAAAAAAAI/AAAAAAAAAt4/Bk5MyOCANTw/s50-c-k-no/photo.jpg",
      "userId": "116331488579508090996"
     },
     "user_tz": 300
    },
    "id": "0M9WPv5pjHk-",
    "outputId": "24c3a62d-ec25-433c-bd82-2b7dc83a3ce4"
   },
   "outputs": [
    {
     "data": {
      "image/png": "[encoded data removed]",
      "text/plain": [
       "<matplotlib.figure.Figure at 0x1a6c03753c8>"
      ]
     },
     "metadata": {},
     "output_type": "display_data"
    }
   ],
   "source": [
    "plt.figure()\n",
    "plt.plot(range(1,len(l2_norm)+1),l2_norm)\n",
    "plt.xlabel('Iterations')\n",
    "plt.ylabel('L2 norm')\n",
    "plt.title('no regularization')\n",
    "plt.legend()\n",
    "plt.savefig('problem1a-norm-no-reg.pdf')\n",
    "plt.show()"
   ]
  },
  {
   "cell_type": "markdown",
   "metadata": {
    "colab_type": "text",
    "id": "-kenk94umtHZ"
   },
   "source": [
    "### L2 regularization"
   ]
  },
  {
   "cell_type": "code",
   "execution_count": 7,
   "metadata": {
    "colab": {
     "autoexec": {
      "startup": false,
      "wait_interval": 0
     },
     "base_uri": "https://localhost:8080/",
     "height": 101,
     "output_extras": [
      {
       "item_id": 3
      }
     ]
    },
    "colab_type": "code",
    "id": "q3m8HTuGmw8F",
    "outputId": "b074919d-c2e7-4732-8ff4-f3a99ab2e56b"
   },
   "outputs": [
    {
     "name": "stdout",
     "output_type": "stream",
     "text": [
      "Training Begining, Count of batchs: 938\n",
      "Epoch:1, [NLL] TRAIN [ 0.3101345] / VALID 0 / TEST [ 0.29795945]\n",
      "Epoch:1, [ACC] TRAIN 0.9136333333333333 / VALID 0 / TEST 0.9164\n",
      "Epoch:11, [NLL] TRAIN [ 0.11803168] / VALID 0 / TEST [ 0.12609766]\n",
      "Epoch:11, [ACC] TRAIN 0.9704166666666667 / VALID 0 / TEST 0.9653\n",
      "Epoch:21, [NLL] TRAIN [ 0.09172269] / VALID 0 / TEST [ 0.10463296]\n",
      "Epoch:21, [ACC] TRAIN 0.9780833333333333 / VALID 0 / TEST 0.9727\n",
      "Epoch:31, [NLL] TRAIN [ 0.0834536] / VALID 0 / TEST [ 0.09648997]\n",
      "Epoch:31, [ACC] TRAIN 0.9806166666666667 / VALID 0 / TEST 0.9734\n",
      "Epoch:41, [NLL] TRAIN [ 0.07617865] / VALID 0 / TEST [ 0.08971363]\n",
      "Epoch:41, [ACC] TRAIN 0.9833166666666666 / VALID 0 / TEST 0.9769\n",
      "Epoch:51, [NLL] TRAIN [ 0.07335868] / VALID 0 / TEST [ 0.08886386]\n",
      "Epoch:51, [ACC] TRAIN 0.9844 / VALID 0 / TEST 0.9767\n",
      "Epoch:61, [NLL] TRAIN [ 0.07101085] / VALID 0 / TEST [ 0.08591261]\n",
      "Epoch:61, [ACC] TRAIN 0.9851 / VALID 0 / TEST 0.9769\n",
      "Epoch:71, [NLL] TRAIN [ 0.07085043] / VALID 0 / TEST [ 0.08639735]\n",
      "Epoch:71, [ACC] TRAIN 0.9848166666666667 / VALID 0 / TEST 0.9783\n",
      "Epoch:81, [NLL] TRAIN [ 0.07055962] / VALID 0 / TEST [ 0.08565804]\n",
      "Epoch:81, [ACC] TRAIN 0.9853166666666666 / VALID 0 / TEST 0.9779\n",
      "Epoch:91, [NLL] TRAIN [ 0.06873717] / VALID 0 / TEST [ 0.08441795]\n",
      "Epoch:91, [ACC] TRAIN 0.9853666666666666 / VALID 0 / TEST 0.9779\n",
      "Epoch:100, [NLL] TRAIN [ 0.06913667] / VALID 0 / TEST [ 0.08566839]\n",
      "Epoch:100, [ACC] TRAIN 0.9856833333333334 / VALID 0 / TEST 0.9787\n"
     ]
    }
   ],
   "source": [
    "sizes=[784,800,800,10]\n",
    "num_epochs = 100\n",
    "batch_size = 64\n",
    "lr0 = 0.02\n",
    "momentum=0.0\n",
    "cuda = True\n",
    "weight_decay = 2.5\n",
    "\n",
    "#define mlp net\n",
    "model1 = MLPnet(sizes)\n",
    "if cuda:\n",
    "    model1 = model1.cuda()\n",
    "    \n",
    "model1.apply(model1.init_weights_glorot)\n",
    "ll_train2,ll_valid2,ll_test2,acc_train2,acc_valid2,acc_test2,l2_norm2=\\\n",
    "    model1.train_model(torch.optim.SGD, lr0, momentum, weight_decay,\n",
    "        num_epochs, batch_size, mnist_train, None, mnist_test, 10)"
   ]
  },
  {
   "cell_type": "code",
   "execution_count": 8,
   "metadata": {},
   "outputs": [
    {
     "data": {
      "image/png": "[encoded data removed]",
      "text/plain": [
       "<matplotlib.figure.Figure at 0x1a69b9680b8>"
      ]
     },
     "metadata": {},
     "output_type": "display_data"
    }
   ],
   "source": [
    "plt.figure()\n",
    "plt.plot(range(1,num_epochs+1),1.0-np.array(acc_train2),label='Training')\n",
    "plt.plot(range(1,num_epochs+1),1.0-np.array(acc_test2),label='Test')\n",
    "plt.xlabel('Epochs')\n",
    "plt.ylabel('Error')\n",
    "plt.title('L2 regularization')\n",
    "plt.legend()\n",
    "plt.savefig('problem1a-error-l2-reg.pdf')\n",
    "plt.show()"
   ]
  },
  {
   "cell_type": "code",
   "execution_count": 9,
   "metadata": {},
   "outputs": [
    {
     "data": {
      "image/png": "[encoded data removed]",
      "text/plain": [
       "<matplotlib.figure.Figure at 0x1a69b924ef0>"
      ]
     },
     "metadata": {},
     "output_type": "display_data"
    }
   ],
   "source": [
    "plt.figure()\n",
    "plt.plot(range(1,len(l2_norm)+1),l2_norm2)\n",
    "plt.xlabel('Iterations')\n",
    "plt.ylabel('L2 norm')\n",
    "plt.title('L2 regularization')\n",
    "plt.legend()\n",
    "plt.savefig('problem1a-norm-l2-reg.pdf')\n",
    "plt.show()"
   ]
  },
  {
   "cell_type": "markdown",
   "metadata": {},
   "source": [
    "### compare effect of L2 regularisation"
   ]
  },
  {
   "cell_type": "code",
   "execution_count": 10,
   "metadata": {
    "colab": {
     "autoexec": {
      "startup": false,
      "wait_interval": 0
     },
     "base_uri": "https://localhost:8080/",
     "height": 294,
     "output_extras": [
      {
       "item_id": 1
      }
     ]
    },
    "colab_type": "code",
    "executionInfo": {
     "elapsed": 2514,
     "status": "ok",
     "timestamp": 1520016897829,
     "user": {
      "displayName": "Xiao Fan",
      "photoUrl": "//lh4.googleusercontent.com/-Q9yRK7__mOo/AAAAAAAAAAI/AAAAAAAAAt4/Bk5MyOCANTw/s50-c-k-no/photo.jpg",
      "userId": "116331488579508090996"
     },
     "user_tz": 300
    },
    "id": "_TGGGUXmnOgv",
    "outputId": "4e2bc509-fa0a-430b-eccd-52b4f4241588"
   },
   "outputs": [
    {
     "data": {
      "image/png": "[encoded data removed]",
      "text/plain": [
       "<matplotlib.figure.Figure at 0x1a6b2cca588>"
      ]
     },
     "metadata": {},
     "output_type": "display_data"
    }
   ],
   "source": [
    "plt.figure()\n",
    "plt.plot(range(1,num_epochs+1),1.0-np.array(acc_train), linestyle='--',label='no reg. train')\n",
    "plt.plot(range(1,num_epochs+1),1.0-np.array(acc_test),label='no reg. test')\n",
    "plt.plot(range(1,num_epochs+1),1.0-np.array(acc_train2),linestyle='--',label='l2 reg. train')\n",
    "plt.plot(range(1,num_epochs+1),1.0-np.array(acc_test2),label='l2 reg. test')\n",
    "plt.xlabel('Epochs')\n",
    "plt.ylabel('Error')\n",
    "plt.legend()\n",
    "plt.savefig('problem1a-error.pdf')\n",
    "plt.show()"
   ]
  },
  {
   "cell_type": "code",
   "execution_count": 11,
   "metadata": {
    "colab": {
     "autoexec": {
      "startup": false,
      "wait_interval": 0
     },
     "base_uri": "https://localhost:8080/",
     "height": 279,
     "output_extras": [
      {
       "item_id": 1
      }
     ]
    },
    "colab_type": "code",
    "executionInfo": {
     "elapsed": 529,
     "status": "ok",
     "timestamp": 1520016898534,
     "user": {
      "displayName": "Xiao Fan",
      "photoUrl": "//lh4.googleusercontent.com/-Q9yRK7__mOo/AAAAAAAAAAI/AAAAAAAAAt4/Bk5MyOCANTw/s50-c-k-no/photo.jpg",
      "userId": "116331488579508090996"
     },
     "user_tz": 300
    },
    "id": "5N6zTLYHnXbZ",
    "outputId": "a92c18d5-c23b-4c38-e4d8-22afb98f75bb"
   },
   "outputs": [
    {
     "data": {
      "image/png": "[encoded data removed]",
      "text/plain": [
       "<matplotlib.figure.Figure at 0x1a6b2c7d518>"
      ]
     },
     "metadata": {},
     "output_type": "display_data"
    }
   ],
   "source": [
    "plt.figure()\n",
    "plt.plot(range(1,len(l2_norm2)+1),l2_norm2,label='l2 reg.')\n",
    "plt.plot(range(1,len(l2_norm)+1),l2_norm,label='no reg.')\n",
    "plt.xlabel('Iterations')\n",
    "plt.ylabel('L2 norm')\n",
    "plt.legend()\n",
    "plt.savefig('problem1a-l2-norm.pdf')\n",
    "plt.show()"
   ]
  },
  {
   "cell_type": "markdown",
   "metadata": {},
   "source": [
    "## (c) Convolutional Networks\n",
    "** Define the cnn model without batch normalisation**"
   ]
  },
  {
   "cell_type": "code",
   "execution_count": 15,
   "metadata": {
    "collapsed": true
   },
   "outputs": [],
   "source": [
    "class CNN_Classifier(nn.Module):\n",
    "    \"\"\"Convnet Classifier\"\"\"\n",
    "    def __init__(self):\n",
    "        super(CNN_Classifier, self).__init__()\n",
    "        self.conv = nn.Sequential(\n",
    "            # Layer 1\n",
    "            nn.Conv2d(in_channels=1, out_channels=16, kernel_size=(3, 3), padding=1),\n",
    "            nn.ReLU(),\n",
    "            nn.MaxPool2d(kernel_size=(2, 2), stride=2),\n",
    "            \n",
    "            # Layer 2\n",
    "            nn.Conv2d(in_channels=16, out_channels=32, kernel_size=(3, 3), padding=1),\n",
    "            nn.ReLU(),\n",
    "            nn.MaxPool2d(kernel_size=(2, 2), stride=2),\n",
    "            \n",
    "            # Layer 3\n",
    "            nn.Conv2d(in_channels=32, out_channels=64, kernel_size=(3, 3), padding=1),\n",
    "            nn.ReLU(),\n",
    "            nn.MaxPool2d(kernel_size=(2, 2), stride=2),\n",
    "            \n",
    "            # Layer 4\n",
    "            nn.Conv2d(in_channels=64, out_channels=128, kernel_size=(3, 3), padding=1),\n",
    "            nn.ReLU(),\n",
    "            nn.MaxPool2d(kernel_size=(2, 2), stride=2)\n",
    "        )\n",
    "        # Logistic Regression\n",
    "        self.clf = nn.Linear(128, 10)\n",
    "\n",
    "    def forward(self, x):\n",
    "        return self.clf(self.conv(x).squeeze())\n",
    "\n"
   ]
  },
  {
   "cell_type": "markdown",
   "metadata": {},
   "source": [
    "### train cnn classifier without batch normalization"
   ]
  },
  {
   "cell_type": "code",
   "execution_count": 16,
   "metadata": {},
   "outputs": [
    {
     "name": "stdout",
     "output_type": "stream",
     "text": [
      "Epoch : 0 Loss : 0.847 \n",
      "Epoch : 0 Train Acc : 90.768\n",
      "Epoch : 0 Test Acc : 90.837\n",
      "--------------------------------------------------------------\n",
      "Epoch : 1 Loss : 0.230 \n",
      "Epoch : 1 Train Acc : 94.892\n",
      "Epoch : 1 Test Acc : 94.923\n",
      "--------------------------------------------------------------\n",
      "Epoch : 2 Loss : 0.151 \n",
      "Epoch : 2 Train Acc : 96.227\n",
      "Epoch : 2 Test Acc : 96.233\n",
      "--------------------------------------------------------------\n",
      "Epoch : 3 Loss : 0.117 \n",
      "Epoch : 3 Train Acc : 97.137\n",
      "Epoch : 3 Test Acc : 97.154\n",
      "--------------------------------------------------------------\n",
      "Epoch : 4 Loss : 0.095 \n",
      "Epoch : 4 Train Acc : 97.448\n",
      "Epoch : 4 Test Acc : 97.471\n",
      "--------------------------------------------------------------\n",
      "Epoch : 5 Loss : 0.082 \n",
      "Epoch : 5 Train Acc : 97.585\n",
      "Epoch : 5 Test Acc : 97.616\n",
      "--------------------------------------------------------------\n",
      "Epoch : 6 Loss : 0.071 \n",
      "Epoch : 6 Train Acc : 97.825\n",
      "Epoch : 6 Test Acc : 97.850\n",
      "--------------------------------------------------------------\n",
      "Epoch : 7 Loss : 0.064 \n",
      "Epoch : 7 Train Acc : 98.093\n",
      "Epoch : 7 Test Acc : 98.116\n",
      "--------------------------------------------------------------\n",
      "Epoch : 8 Loss : 0.057 \n",
      "Epoch : 8 Train Acc : 98.518\n",
      "Epoch : 8 Test Acc : 98.524\n",
      "--------------------------------------------------------------\n",
      "Epoch : 9 Loss : 0.053 \n",
      "Epoch : 9 Train Acc : 98.590\n",
      "Epoch : 9 Test Acc : 98.597\n",
      "--------------------------------------------------------------\n"
     ]
    }
   ],
   "source": [
    "\n",
    "'''\n",
    "train cnn classifier without batch normalization\n",
    "'''\n",
    "trainloader = torch.utils.data.DataLoader(mnist_train, batch_size=64, shuffle=True, num_workers=2)\n",
    "testloader = torch.utils.data.DataLoader(mnist_test, batch_size=64, shuffle=True, num_workers=2)\n",
    "\n",
    "cuda_available = torch.cuda.is_available()\n",
    "model_cnn = CNN_Classifier()\n",
    "if cuda_available:\n",
    "    model_cnn = model_cnn.cuda()\n",
    "optimizer = torch.optim.Adam(model_cnn.parameters(), lr=1e-4)\n",
    "criterion = nn.CrossEntropyLoss()\n",
    "\n",
    "acc_train = list()\n",
    "acc_test = list()\n",
    "\n",
    "for epoch in range(10):\n",
    "    losses = []\n",
    "    # Train\n",
    "    for batch_idx, (inputs, targets) in enumerate(trainloader):\n",
    "        if cuda_available:\n",
    "            inputs, targets = inputs.cuda(), targets.cuda()\n",
    "\n",
    "        optimizer.zero_grad()\n",
    "        inputs, targets = Variable(inputs), Variable(targets)\n",
    "        outputs = model_cnn(inputs)\n",
    "        loss = criterion(outputs, targets)\n",
    "        # print(loss)\n",
    "        loss.backward()\n",
    "        optimizer.step()\n",
    "        losses.append(loss.data[0])\n",
    "\n",
    "    print('Epoch : %d Loss : %.3f ' % (epoch, np.mean(losses)))\n",
    "    \n",
    "    # Evaluate\n",
    "    model_cnn.eval()\n",
    "    total = 0\n",
    "    correct = 0\n",
    "    for batch_idx, (inputs, targets) in enumerate(trainloader):\n",
    "        if cuda_available:\n",
    "            inputs, targets = inputs.cuda(), targets.cuda()\n",
    "\n",
    "        inputs, targets = Variable(inputs, volatile=True), Variable(targets, volatile=True)\n",
    "        outputs = model_cnn(inputs)\n",
    "        _, predicted = torch.max(outputs.data, 1)\n",
    "        total += targets.size(0)\n",
    "        correct += predicted.eq(targets.data).cpu().sum()\n",
    "\n",
    "    acc_train.append(correct/total)\n",
    "    print('Epoch : %d Train Acc : %.3f' % (epoch, 100.*correct/total))\n",
    "\n",
    "    for batch_idx, (inputs, targets) in enumerate(testloader):\n",
    "        if cuda_available:\n",
    "            inputs, targets = inputs.cuda(), targets.cuda()\n",
    "\n",
    "        inputs, targets = Variable(inputs, volatile=True), Variable(targets, volatile=True)\n",
    "        outputs = model_cnn(inputs)\n",
    "        _, predicted = torch.max(outputs.data, 1)\n",
    "        total += targets.size(0)\n",
    "        correct += predicted.eq(targets.data).cpu().sum()\n",
    "\n",
    "    acc_test.append(correct/total)\n",
    "\n",
    "    print('Epoch : %d Test Acc : %.3f' % (epoch, 100.*correct/total))\n",
    "    print('--------------------------------------------------------------')\n",
    "    model_cnn.train()\n"
   ]
  },
  {
   "cell_type": "code",
   "execution_count": 17,
   "metadata": {},
   "outputs": [
    {
     "data": {
      "image/png": "[encoded data removed]",
      "text/plain": [
       "<matplotlib.figure.Figure at 0x23c914130b8>"
      ]
     },
     "metadata": {},
     "output_type": "display_data"
    }
   ],
   "source": [
    "plt.figure()\n",
    "plt.plot(range(1,11),1.0-np.array(acc_train),label='Training')\n",
    "plt.plot(range(1,11),1.0-np.array(acc_test),label='Test')\n",
    "plt.xlabel('Epochs')\n",
    "plt.ylabel('Error')\n",
    "plt.title('no batch normalization')\n",
    "plt.legend()\n",
    "plt.savefig('problem1c-no-bn.pdf')\n",
    "plt.show()"
   ]
  },
  {
   "cell_type": "markdown",
   "metadata": {},
   "source": [
    "** Define the cnn model with batch normalization **"
   ]
  },
  {
   "cell_type": "code",
   "execution_count": 18,
   "metadata": {
    "collapsed": true
   },
   "outputs": [],
   "source": [
    "\n",
    "'''\n",
    "train cnn classifier with batch normalization\n",
    "'''\n",
    "class CNN_BN_Classifier(nn.Module):\n",
    "    \"\"\"Convnet Classifier\"\"\"\n",
    "    def __init__(self):\n",
    "        super(CNN_BN_Classifier, self).__init__()\n",
    "        self.conv = nn.Sequential(\n",
    "            # Layer 1\n",
    "            nn.Conv2d(in_channels=1, out_channels=16, kernel_size=(3, 3), padding=1),\n",
    "            nn.BatchNorm2d(16),\n",
    "            nn.ReLU(),\n",
    "            nn.MaxPool2d(kernel_size=(2, 2), stride=2),\n",
    "            \n",
    "            # Layer 2\n",
    "            nn.Conv2d(in_channels=16, out_channels=32, kernel_size=(3, 3), padding=1),\n",
    "            nn.BatchNorm2d(32)  ,          \n",
    "            nn.ReLU(),\n",
    "            nn.MaxPool2d(kernel_size=(2, 2), stride=2),\n",
    "            \n",
    "            # Layer 3\n",
    "            nn.Conv2d(in_channels=32, out_channels=64, kernel_size=(3, 3), padding=1),\n",
    "            nn.BatchNorm2d(64),\n",
    "            nn.ReLU(),\n",
    "            nn.MaxPool2d(kernel_size=(2, 2), stride=2),\n",
    "            \n",
    "            # Layer 4\n",
    "            nn.Conv2d(in_channels=64, out_channels=128, kernel_size=(3, 3), padding=1),\n",
    "            nn.BatchNorm2d(128),\n",
    "            nn.ReLU(),\n",
    "            nn.MaxPool2d(kernel_size=(2, 2), stride=2)\n",
    "        )\n",
    "        # Logistic Regression\n",
    "        self.clf = nn.Linear(128, 10)\n",
    "#         self.bn = nn.BatchNorm1d(10)\n",
    "\n",
    "    def forward(self, x):\n",
    "#         return self.bn(self.clf(self.conv(x).squeeze()))\n",
    "        return self.clf(self.conv(x).squeeze())"
   ]
  },
  {
   "cell_type": "markdown",
   "metadata": {},
   "source": [
    "### train cnn classifier with batch normalization"
   ]
  },
  {
   "cell_type": "code",
   "execution_count": 19,
   "metadata": {},
   "outputs": [
    {
     "name": "stdout",
     "output_type": "stream",
     "text": [
      "Epoch : 0 Loss : 0.503 \n",
      "Epoch : 0 Train Acc : 97.453\n",
      "Epoch : 0 Test Acc : 97.466\n",
      "--------------------------------------------------------------\n",
      "Epoch : 1 Loss : 0.094 \n",
      "Epoch : 1 Train Acc : 98.597\n",
      "Epoch : 1 Test Acc : 98.583\n",
      "--------------------------------------------------------------\n",
      "Epoch : 2 Loss : 0.054 \n",
      "Epoch : 2 Train Acc : 99.053\n",
      "Epoch : 2 Test Acc : 99.013\n",
      "--------------------------------------------------------------\n",
      "Epoch : 3 Loss : 0.038 \n",
      "Epoch : 3 Train Acc : 99.370\n",
      "Epoch : 3 Test Acc : 99.316\n",
      "--------------------------------------------------------------\n",
      "Epoch : 4 Loss : 0.029 \n",
      "Epoch : 4 Train Acc : 99.563\n",
      "Epoch : 4 Test Acc : 99.491\n",
      "--------------------------------------------------------------\n",
      "Epoch : 5 Loss : 0.023 \n",
      "Epoch : 5 Train Acc : 99.683\n",
      "Epoch : 5 Test Acc : 99.609\n",
      "--------------------------------------------------------------\n",
      "Epoch : 6 Loss : 0.019 \n",
      "Epoch : 6 Train Acc : 99.752\n",
      "Epoch : 6 Test Acc : 99.680\n",
      "--------------------------------------------------------------\n",
      "Epoch : 7 Loss : 0.014 \n",
      "Epoch : 7 Train Acc : 99.803\n",
      "Epoch : 7 Test Acc : 99.726\n",
      "--------------------------------------------------------------\n",
      "Epoch : 8 Loss : 0.012 \n",
      "Epoch : 8 Train Acc : 99.863\n",
      "Epoch : 8 Test Acc : 99.761\n",
      "--------------------------------------------------------------\n",
      "Epoch : 9 Loss : 0.009 \n",
      "Epoch : 9 Train Acc : 99.848\n",
      "Epoch : 9 Test Acc : 99.759\n",
      "--------------------------------------------------------------\n"
     ]
    }
   ],
   "source": [
    "### train cnn classifier \n",
    "cuda_available = torch.cuda.is_available()\n",
    "model_cnn2 = CNN_BN_Classifier()\n",
    "if cuda_available:\n",
    "    model_cnn2 = model_cnn2.cuda()\n",
    "optimizer = torch.optim.Adam(model_cnn2.parameters(), lr=1e-4)\n",
    "criterion = nn.CrossEntropyLoss()\n",
    "\n",
    "acc_train = list()\n",
    "acc_test = list()\n",
    "\n",
    "for epoch in range(10):\n",
    "    losses = []\n",
    "    # Train\n",
    "    for batch_idx, (inputs, targets) in enumerate(trainloader):\n",
    "        if cuda_available:\n",
    "            inputs, targets = inputs.cuda(), targets.cuda()\n",
    "\n",
    "        optimizer.zero_grad()\n",
    "        inputs, targets = Variable(inputs), Variable(targets)\n",
    "        outputs = model_cnn2(inputs)\n",
    "        loss = criterion(outputs, targets)\n",
    "        # print(loss)\n",
    "        loss.backward()\n",
    "        optimizer.step()\n",
    "        losses.append(loss.data[0])\n",
    "\n",
    "    print('Epoch : %d Loss : %.3f ' % (epoch, np.mean(losses)))\n",
    "    \n",
    "    # Evaluate\n",
    "    model_cnn2.eval()\n",
    "    total = 0\n",
    "    correct = 0\n",
    "    for batch_idx, (inputs, targets) in enumerate(trainloader):\n",
    "        if cuda_available:\n",
    "            inputs, targets = inputs.cuda(), targets.cuda()\n",
    "\n",
    "        inputs, targets = Variable(inputs, volatile=True), Variable(targets, volatile=True)\n",
    "        outputs = model_cnn2(inputs)\n",
    "        _, predicted = torch.max(outputs.data, 1)\n",
    "        total += targets.size(0)\n",
    "        correct += predicted.eq(targets.data).cpu().sum()\n",
    "\n",
    "    acc_train.append(correct/total)\n",
    "    print('Epoch : %d Train Acc : %.3f' % (epoch, 100.*correct/total))\n",
    "\n",
    "    for batch_idx, (inputs, targets) in enumerate(testloader):\n",
    "        if cuda_available:\n",
    "            inputs, targets = inputs.cuda(), targets.cuda()\n",
    "\n",
    "        inputs, targets = Variable(inputs, volatile=True), Variable(targets, volatile=True)\n",
    "        outputs = model_cnn2(inputs)\n",
    "        _, predicted = torch.max(outputs.data, 1)\n",
    "        total += targets.size(0)\n",
    "        correct += predicted.eq(targets.data).cpu().sum()\n",
    "\n",
    "    acc_test.append(correct/total)\n",
    "\n",
    "    print('Epoch : %d Test Acc : %.3f' % (epoch, 100.*correct/total))\n",
    "    print('--------------------------------------------------------------')\n",
    "    model_cnn2.train()\n"
   ]
  },
  {
   "cell_type": "code",
   "execution_count": 20,
   "metadata": {},
   "outputs": [
    {
     "data": {
      "image/png": "[encoded data removed]",
      "text/plain": [
       "<matplotlib.figure.Figure at 0x23c92a84c50>"
      ]
     },
     "metadata": {},
     "output_type": "display_data"
    }
   ],
   "source": [
    "plt.figure()\n",
    "plt.plot(range(1,11),1.0-np.array(acc_train),label='Training')\n",
    "plt.plot(range(1,11),1.0-np.array(acc_test),label='Test')\n",
    "plt.xlabel('Epochs')\n",
    "plt.ylabel('Error')\n",
    "plt.title('with batch normalization')\n",
    "plt.legend()\n",
    "plt.savefig('problem1c-with-bn.pdf')\n",
    "plt.show()"
   ]
  }
 ],
 "metadata": {
  "accelerator": "GPU",
  "colab": {
   "collapsed_sections": [],
   "default_view": {},
   "name": "ift6136_hwk2_code.ipynb",
   "provenance": [],
   "version": "0.3.2",
   "views": {}
  },
  "kernelspec": {
   "display_name": "Python 3",
   "language": "python",
   "name": "python3"
  },
  "language_info": {
   "codemirror_mode": {
    "name": "ipython",
    "version": 3
   },
   "file_extension": ".py",
   "mimetype": "text/x-python",
   "name": "python",
   "nbconvert_exporter": "python",
   "pygments_lexer": "ipython3",
   "version": "3.6.3"
  }
 },
 "nbformat": 4,
 "nbformat_minor": 1
}
