{
 "cells": [
  {
   "cell_type": "markdown",
   "metadata": {},
   "source": [
    "## IFT6135 Assignment2, Programming part\n",
    "\n",
    "#### Qestion 1(C): CNN batch normalization\n",
    "\n",
    "Names: Xiao Fan (20086722) ,  Zhibin Lu (20091078)"
   ]
  },
  {
   "cell_type": "code",
   "execution_count": 15,
   "metadata": {
    "collapsed": true
   },
   "outputs": [],
   "source": [
    "import time\n",
    "import numpy as np\n",
    "from __future__ import print_function\n",
    "\n",
    "import torch\n",
    "import torch.nn as nn\n",
    "import torch.optim as optim\n",
    "import torch.nn.init as init\n",
    "import torch.nn.functional as F\n",
    "from torch.autograd import Variable\n",
    "\n",
    "import torchvision\n",
    "import torchvision.transforms\n",
    "\n",
    "import matplotlib.pyplot as plt\n"
   ]
  },
  {
   "cell_type": "code",
   "execution_count": 16,
   "metadata": {},
   "outputs": [
    {
     "name": "stdout",
     "output_type": "stream",
     "text": [
      "mnist_train: 60000\n",
      "mnist_test: 10000\n"
     ]
    }
   ],
   "source": [
    "mnist_transforms = torchvision.transforms.Compose([torchvision.transforms.ToTensor()])\n",
    "mnist_train = torchvision.datasets.MNIST(root='./data', train=True, transform=mnist_transforms, download=True)\n",
    "mnist_test = torchvision.datasets.MNIST(root='./data', train=False, transform=mnist_transforms, download=True)\n",
    "trainloader = torch.utils.data.DataLoader(mnist_train, batch_size=64, shuffle=True, num_workers=2)\n",
    "testloader = torch.utils.data.DataLoader(mnist_test, batch_size=64, shuffle=True, num_workers=2)\n",
    "\n",
    "print('mnist_train:',len(mnist_train))\n",
    "print('mnist_test:',len(mnist_test))\n"
   ]
  },
  {
   "cell_type": "markdown",
   "metadata": {},
   "source": [
    "### Define the cnn model"
   ]
  },
  {
   "cell_type": "code",
   "execution_count": 17,
   "metadata": {
    "collapsed": true
   },
   "outputs": [],
   "source": [
    "class CNN_Classifier(nn.Module):\n",
    "    \"\"\"Convnet Classifier\"\"\"\n",
    "    def __init__(self):\n",
    "        super(CNN_Classifier, self).__init__()\n",
    "        self.conv = nn.Sequential(\n",
    "            # Layer 1\n",
    "            nn.Conv2d(in_channels=1, out_channels=16, kernel_size=(3, 3), padding=1),\n",
    "            # nn.conv2_bn = nn.BatchNorm2d(16)\n",
    "#             nn.Dropout(p=0.5),\n",
    "            nn.ReLU(),\n",
    "            nn.MaxPool2d(kernel_size=(2, 2), stride=2),\n",
    "            \n",
    "            # Layer 2\n",
    "            nn.Conv2d(in_channels=16, out_channels=32, kernel_size=(3, 3), padding=1),\n",
    "            # nn.conv2_bn = nn.BatchNorm2d(32)            \n",
    "#             nn.Dropout(p=0.5),\n",
    "            nn.ReLU(),\n",
    "            nn.MaxPool2d(kernel_size=(2, 2), stride=2),\n",
    "            \n",
    "            # Layer 3\n",
    "            nn.Conv2d(in_channels=32, out_channels=64, kernel_size=(3, 3), padding=1),\n",
    "            # nn.conv2_bn = nn.BatchNorm2d(64)\n",
    "#             nn.Dropout(p=0.5),\n",
    "            nn.ReLU(),\n",
    "            nn.MaxPool2d(kernel_size=(2, 2), stride=2),\n",
    "            \n",
    "            # Layer 4\n",
    "            nn.Conv2d(in_channels=64, out_channels=128, kernel_size=(3, 3), padding=1),\n",
    "            # nn.conv2_bn = nn.BatchNorm2d(128)\n",
    "#             nn.Dropout(p=0.5),\n",
    "            nn.ReLU(),\n",
    "            nn.MaxPool2d(kernel_size=(2, 2), stride=2)\n",
    "        )\n",
    "        # Logistic Regression\n",
    "        self.clf = nn.Linear(128, 10)\n",
    "        # self.dense1_bn = nn.BatchNorm1d(10)\n",
    "\n",
    "    def forward(self, x):\n",
    "        return self.clf(self.conv(x).squeeze())\n",
    "\n"
   ]
  },
  {
   "cell_type": "markdown",
   "metadata": {},
   "source": [
    "### train cnn classifier without batch normalization"
   ]
  },
  {
   "cell_type": "code",
   "execution_count": 18,
   "metadata": {},
   "outputs": [
    {
     "name": "stdout",
     "output_type": "stream",
     "text": [
      "Epoch : 0 Loss : 0.794 \n",
      "Epoch : 0 Train Acc : 93.172\n",
      "Epoch : 0 Test Acc : 93.213\n",
      "--------------------------------------------------------------\n",
      "Epoch : 1 Loss : 0.178 \n",
      "Epoch : 1 Train Acc : 95.710\n",
      "Epoch : 1 Test Acc : 95.727\n",
      "--------------------------------------------------------------\n",
      "Epoch : 2 Loss : 0.125 \n",
      "Epoch : 2 Train Acc : 96.645\n",
      "Epoch : 2 Test Acc : 96.634\n",
      "--------------------------------------------------------------\n",
      "Epoch : 3 Loss : 0.100 \n",
      "Epoch : 3 Train Acc : 97.320\n",
      "Epoch : 3 Test Acc : 97.310\n",
      "--------------------------------------------------------------\n",
      "Epoch : 4 Loss : 0.086 \n",
      "Epoch : 4 Train Acc : 97.527\n",
      "Epoch : 4 Test Acc : 97.534\n",
      "--------------------------------------------------------------\n",
      "Epoch : 5 Loss : 0.076 \n",
      "Epoch : 5 Train Acc : 97.938\n",
      "Epoch : 5 Test Acc : 97.926\n",
      "--------------------------------------------------------------\n",
      "Epoch : 6 Loss : 0.067 \n",
      "Epoch : 6 Train Acc : 98.147\n",
      "Epoch : 6 Test Acc : 98.151\n",
      "--------------------------------------------------------------\n",
      "Epoch : 7 Loss : 0.061 \n",
      "Epoch : 7 Train Acc : 98.382\n",
      "Epoch : 7 Test Acc : 98.374\n",
      "--------------------------------------------------------------\n",
      "Epoch : 8 Loss : 0.056 \n",
      "Epoch : 8 Train Acc : 98.317\n",
      "Epoch : 8 Test Acc : 98.324\n",
      "--------------------------------------------------------------\n",
      "Epoch : 9 Loss : 0.051 \n",
      "Epoch : 9 Train Acc : 98.650\n",
      "Epoch : 9 Test Acc : 98.637\n",
      "--------------------------------------------------------------\n"
     ]
    }
   ],
   "source": [
    "\n",
    "#%%\n",
    "'''\n",
    "train cnn classifier without batch normalization\n",
    "'''\n",
    "cuda_available = torch.cuda.is_available()\n",
    "model_cnn = CNN_Classifier()\n",
    "if cuda_available:\n",
    "    model_cnn = model_cnn.cuda()\n",
    "optimizer = torch.optim.Adam(model_cnn.parameters(), lr=1e-4)\n",
    "criterion = nn.CrossEntropyLoss()\n",
    "\n",
    "acc_train = list()\n",
    "acc_test = list()\n",
    "\n",
    "for epoch in range(10):\n",
    "    losses = []\n",
    "    # Train\n",
    "    for batch_idx, (inputs, targets) in enumerate(trainloader):\n",
    "        if cuda_available:\n",
    "            inputs, targets = inputs.cuda(), targets.cuda()\n",
    "\n",
    "        optimizer.zero_grad()\n",
    "        inputs, targets = Variable(inputs), Variable(targets)\n",
    "        outputs = model_cnn(inputs)\n",
    "        loss = criterion(outputs, targets)\n",
    "        # print(loss)\n",
    "        loss.backward()\n",
    "        optimizer.step()\n",
    "        losses.append(loss.data[0])\n",
    "\n",
    "    print('Epoch : %d Loss : %.3f ' % (epoch, np.mean(losses)))\n",
    "    \n",
    "    # Evaluate\n",
    "    model_cnn.eval()\n",
    "    total = 0\n",
    "    correct = 0\n",
    "    for batch_idx, (inputs, targets) in enumerate(trainloader):\n",
    "        if cuda_available:\n",
    "            inputs, targets = inputs.cuda(), targets.cuda()\n",
    "\n",
    "        inputs, targets = Variable(inputs, volatile=True), Variable(targets, volatile=True)\n",
    "        outputs = model_cnn(inputs)\n",
    "        _, predicted = torch.max(outputs.data, 1)\n",
    "        total += targets.size(0)\n",
    "        correct += predicted.eq(targets.data).cpu().sum()\n",
    "\n",
    "    acc_train.append(correct/total)\n",
    "    print('Epoch : %d Train Acc : %.3f' % (epoch, 100.*correct/total))\n",
    "\n",
    "    for batch_idx, (inputs, targets) in enumerate(testloader):\n",
    "        if cuda_available:\n",
    "            inputs, targets = inputs.cuda(), targets.cuda()\n",
    "\n",
    "        inputs, targets = Variable(inputs, volatile=True), Variable(targets, volatile=True)\n",
    "        outputs = model_cnn(inputs)\n",
    "        _, predicted = torch.max(outputs.data, 1)\n",
    "        total += targets.size(0)\n",
    "        correct += predicted.eq(targets.data).cpu().sum()\n",
    "\n",
    "    acc_test.append(correct/total)\n",
    "\n",
    "    print('Epoch : %d Test Acc : %.3f' % (epoch, 100.*correct/total))\n",
    "    print('--------------------------------------------------------------')\n",
    "    model_cnn.train()\n",
    "\n",
    "    #%%\n",
    "\n"
   ]
  },
  {
   "cell_type": "code",
   "execution_count": 19,
   "metadata": {},
   "outputs": [
    {
     "data": {
      "image/png": "[encoded data removed]",
      "text/plain": [
       "<matplotlib.figure.Figure at 0x1195d9898>"
      ]
     },
     "metadata": {},
     "output_type": "display_data"
    }
   ],
   "source": [
    "\n",
    "#%%\n",
    "plt.figure()\n",
    "plt.plot(range(1,11),1.0-np.array(acc_train),label='Training')\n",
    "plt.plot(range(1,11),1.0-np.array(acc_test),label='Test')\n",
    "plt.xlabel('Epochs')\n",
    "plt.ylabel('Error')\n",
    "plt.title('no batch normalization')\n",
    "plt.legend()\n",
    "plt.savefig('problem1c-no-bn.pdf')\n",
    "plt.show()"
   ]
  },
  {
   "cell_type": "markdown",
   "metadata": {},
   "source": [
    " ### Define the cnn model with batch normalization"
   ]
  },
  {
   "cell_type": "code",
   "execution_count": 20,
   "metadata": {
    "collapsed": true
   },
   "outputs": [],
   "source": [
    "\n",
    "'''\n",
    "train cnn classifier with batch normalization\n",
    "'''\n",
    "class CNN_BN_Classifier(nn.Module):\n",
    "    \"\"\"Convnet Classifier\"\"\"\n",
    "    def __init__(self):\n",
    "        super(CNN_BN_Classifier, self).__init__()\n",
    "        self.conv = nn.Sequential(\n",
    "            # Layer 1\n",
    "            nn.Conv2d(in_channels=1, out_channels=16, kernel_size=(3, 3), padding=1),\n",
    "            nn.BatchNorm2d(16),\n",
    "#             nn.Dropout(p=0.5),\n",
    "            nn.ReLU(),\n",
    "            nn.MaxPool2d(kernel_size=(2, 2), stride=2),\n",
    "            \n",
    "            # Layer 2\n",
    "            nn.Conv2d(in_channels=16, out_channels=32, kernel_size=(3, 3), padding=1),\n",
    "            nn.BatchNorm2d(32)  ,          \n",
    "#             nn.Dropout(p=0.5),\n",
    "            nn.ReLU(),\n",
    "            nn.MaxPool2d(kernel_size=(2, 2), stride=2),\n",
    "            \n",
    "            # Layer 3\n",
    "            nn.Conv2d(in_channels=32, out_channels=64, kernel_size=(3, 3), padding=1),\n",
    "            nn.BatchNorm2d(64),\n",
    "#             nn.Dropout(p=0.5),\n",
    "            nn.ReLU(),\n",
    "            nn.MaxPool2d(kernel_size=(2, 2), stride=2),\n",
    "            \n",
    "            # Layer 4\n",
    "            nn.Conv2d(in_channels=64, out_channels=128, kernel_size=(3, 3), padding=1),\n",
    "            nn.BatchNorm2d(128),\n",
    "#             nn.Dropout(p=0.5),\n",
    "            nn.ReLU(),\n",
    "            nn.MaxPool2d(kernel_size=(2, 2), stride=2)\n",
    "        )\n",
    "        # Logistic Regression\n",
    "        self.clf = nn.Linear(128, 10)\n",
    "#         self.bn = nn.BatchNorm1d(10)\n",
    "\n",
    "    def forward(self, x):\n",
    "#         return self.bn(self.clf(self.conv(x).squeeze()))\n",
    "        return self.clf(self.conv(x).squeeze())"
   ]
  },
  {
   "cell_type": "markdown",
   "metadata": {},
   "source": [
    "### train cnn classifier with batch normalization"
   ]
  },
  {
   "cell_type": "code",
   "execution_count": 21,
   "metadata": {},
   "outputs": [
    {
     "name": "stdout",
     "output_type": "stream",
     "text": [
      "Epoch : 0 Loss : 0.483 \n",
      "Epoch : 0 Train Acc : 97.788\n",
      "Epoch : 0 Test Acc : 97.817\n",
      "--------------------------------------------------------------\n",
      "Epoch : 1 Loss : 0.087 \n",
      "Epoch : 1 Train Acc : 98.695\n",
      "Epoch : 1 Test Acc : 98.689\n",
      "--------------------------------------------------------------\n",
      "Epoch : 2 Loss : 0.052 \n",
      "Epoch : 2 Train Acc : 99.088\n",
      "Epoch : 2 Test Acc : 99.047\n",
      "--------------------------------------------------------------\n",
      "Epoch : 3 Loss : 0.037 \n",
      "Epoch : 3 Train Acc : 99.363\n",
      "Epoch : 3 Test Acc : 99.306\n",
      "--------------------------------------------------------------\n",
      "Epoch : 4 Loss : 0.028 \n",
      "Epoch : 4 Train Acc : 99.517\n",
      "Epoch : 4 Test Acc : 99.456\n",
      "--------------------------------------------------------------\n",
      "Epoch : 5 Loss : 0.022 \n",
      "Epoch : 5 Train Acc : 99.615\n",
      "Epoch : 5 Test Acc : 99.511\n",
      "--------------------------------------------------------------\n",
      "Epoch : 6 Loss : 0.018 \n",
      "Epoch : 6 Train Acc : 99.755\n",
      "Epoch : 6 Test Acc : 99.663\n",
      "--------------------------------------------------------------\n",
      "Epoch : 7 Loss : 0.014 \n",
      "Epoch : 7 Train Acc : 99.853\n",
      "Epoch : 7 Test Acc : 99.753\n",
      "--------------------------------------------------------------\n",
      "Epoch : 8 Loss : 0.011 \n",
      "Epoch : 8 Train Acc : 99.890\n",
      "Epoch : 8 Test Acc : 99.786\n",
      "--------------------------------------------------------------\n",
      "Epoch : 9 Loss : 0.009 \n",
      "Epoch : 9 Train Acc : 99.937\n",
      "Epoch : 9 Test Acc : 99.839\n",
      "--------------------------------------------------------------\n"
     ]
    }
   ],
   "source": [
    "#%%\n",
    "### train cnn classifier \n",
    "cuda_available = torch.cuda.is_available()\n",
    "model_cnn2 = CNN_BN_Classifier()\n",
    "if cuda_available:\n",
    "    model_cnn2 = model_cnn2.cuda()\n",
    "optimizer = torch.optim.Adam(model_cnn2.parameters(), lr=1e-4)\n",
    "criterion = nn.CrossEntropyLoss()\n",
    "\n",
    "acc_train = list()\n",
    "acc_test = list()\n",
    "\n",
    "for epoch in range(10):\n",
    "    losses = []\n",
    "    # Train\n",
    "    for batch_idx, (inputs, targets) in enumerate(trainloader):\n",
    "        if cuda_available:\n",
    "            inputs, targets = inputs.cuda(), targets.cuda()\n",
    "\n",
    "        optimizer.zero_grad()\n",
    "        inputs, targets = Variable(inputs), Variable(targets)\n",
    "        outputs = model_cnn2(inputs)\n",
    "        loss = criterion(outputs, targets)\n",
    "        # print(loss)\n",
    "        loss.backward()\n",
    "        optimizer.step()\n",
    "        losses.append(loss.data[0])\n",
    "\n",
    "    print('Epoch : %d Loss : %.3f ' % (epoch, np.mean(losses)))\n",
    "    \n",
    "    # Evaluate\n",
    "    model_cnn2.eval()\n",
    "    total = 0\n",
    "    correct = 0\n",
    "    for batch_idx, (inputs, targets) in enumerate(trainloader):\n",
    "        if cuda_available:\n",
    "            inputs, targets = inputs.cuda(), targets.cuda()\n",
    "\n",
    "        inputs, targets = Variable(inputs, volatile=True), Variable(targets, volatile=True)\n",
    "        outputs = model_cnn2(inputs)\n",
    "        _, predicted = torch.max(outputs.data, 1)\n",
    "        total += targets.size(0)\n",
    "        correct += predicted.eq(targets.data).cpu().sum()\n",
    "\n",
    "    acc_train.append(correct/total)\n",
    "    print('Epoch : %d Train Acc : %.3f' % (epoch, 100.*correct/total))\n",
    "\n",
    "    for batch_idx, (inputs, targets) in enumerate(testloader):\n",
    "        if cuda_available:\n",
    "            inputs, targets = inputs.cuda(), targets.cuda()\n",
    "\n",
    "        inputs, targets = Variable(inputs, volatile=True), Variable(targets, volatile=True)\n",
    "        outputs = model_cnn2(inputs)\n",
    "        _, predicted = torch.max(outputs.data, 1)\n",
    "        total += targets.size(0)\n",
    "        correct += predicted.eq(targets.data).cpu().sum()\n",
    "\n",
    "    acc_test.append(correct/total)\n",
    "\n",
    "    print('Epoch : %d Test Acc : %.3f' % (epoch, 100.*correct/total))\n",
    "    print('--------------------------------------------------------------')\n",
    "    model_cnn2.train()\n",
    "\n",
    "    #%%\n"
   ]
  },
  {
   "cell_type": "code",
   "execution_count": 22,
   "metadata": {},
   "outputs": [
    {
     "data": {
      "image/png": "[encoded data removed]",
      "text/plain": [
       "<matplotlib.figure.Figure at 0x11c1393c8>"
      ]
     },
     "metadata": {},
     "output_type": "display_data"
    }
   ],
   "source": [
    "\n",
    "#%%\n",
    "plt.figure()\n",
    "plt.plot(range(1,11),1.0-np.array(acc_train),label='Training')\n",
    "plt.plot(range(1,11),1.0-np.array(acc_test),label='Test')\n",
    "plt.xlabel('Epochs')\n",
    "plt.ylabel('Error')\n",
    "plt.title('with batch normalization')\n",
    "plt.legend()\n",
    "plt.savefig('problem1c-with-bn.pdf')\n",
    "plt.show()"
   ]
  },
  {
   "cell_type": "code",
   "execution_count": null,
   "metadata": {
    "collapsed": true
   },
   "outputs": [],
   "source": []
  }
 ],
 "metadata": {
  "kernelspec": {
   "display_name": "Python 3",
   "language": "python",
   "name": "python3"
  },
  "language_info": {
   "codemirror_mode": {
    "name": "ipython",
    "version": 3
   },
   "file_extension": ".py",
   "mimetype": "text/x-python",
   "name": "python",
   "nbconvert_exporter": "python",
   "pygments_lexer": "ipython3",
   "version": "3.6.4"
  }
 },
 "nbformat": 4,
 "nbformat_minor": 2
}
